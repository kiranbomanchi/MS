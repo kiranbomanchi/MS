{
 "cells": [
  {
   "cell_type": "code",
   "execution_count": 1,
   "metadata": {},
   "outputs": [],
   "source": [
    "import pandas as pd\n",
    "import json "
   ]
  },
  {
   "cell_type": "code",
   "execution_count": 38,
   "metadata": {},
   "outputs": [],
   "source": [
    "data =[]\n",
    "with open('customersdata.json') as datafile:\n",
    "    for values in datafile:\n",
    "        data.append(values)"
   ]
  },
  {
   "cell_type": "code",
   "execution_count": 321,
   "metadata": {},
   "outputs": [],
   "source": [
    "df = pd.read_json('customersdata.json',lines = True)\n"
   ]
  },
  {
   "cell_type": "code",
   "execution_count": 322,
   "metadata": {},
   "outputs": [
    {
     "data": {
      "text/html": [
       "<div>\n",
       "<style scoped>\n",
       "    .dataframe tbody tr th:only-of-type {\n",
       "        vertical-align: middle;\n",
       "    }\n",
       "\n",
       "    .dataframe tbody tr th {\n",
       "        vertical-align: top;\n",
       "    }\n",
       "\n",
       "    .dataframe thead th {\n",
       "        text-align: right;\n",
       "    }\n",
       "</style>\n",
       "<table border=\"1\" class=\"dataframe\">\n",
       "  <thead>\n",
       "    <tr style=\"text-align: right;\">\n",
       "      <th></th>\n",
       "      <th>customer</th>\n",
       "      <th>fraudulent</th>\n",
       "      <th>orders</th>\n",
       "      <th>paymentMethods</th>\n",
       "      <th>transactions</th>\n",
       "    </tr>\n",
       "  </thead>\n",
       "  <tbody>\n",
       "    <tr>\n",
       "      <th>0</th>\n",
       "      <td>{'customerEmail': 'josephhoward@yahoo.com', 'c...</td>\n",
       "      <td>False</td>\n",
       "      <td>[{'orderId': 'vjbdvd', 'orderAmount': 18, 'ord...</td>\n",
       "      <td>[{'paymentMethodId': 'wt07xm68b', 'paymentMeth...</td>\n",
       "      <td>[{'transactionId': 'a9lcj51r', 'orderId': 'vjb...</td>\n",
       "    </tr>\n",
       "    <tr>\n",
       "      <th>1</th>\n",
       "      <td>{'customerEmail': 'evansjeffery@yahoo.com', 'c...</td>\n",
       "      <td>True</td>\n",
       "      <td>[{'orderId': 'nlghpa', 'orderAmount': 45, 'ord...</td>\n",
       "      <td>[{'paymentMethodId': 'y3xp697jx', 'paymentMeth...</td>\n",
       "      <td>[{'transactionId': '5mi94sfw', 'orderId': 'nlg...</td>\n",
       "    </tr>\n",
       "    <tr>\n",
       "      <th>2</th>\n",
       "      <td>{'customerEmail': 'andersonwilliam@yahoo.com',...</td>\n",
       "      <td>False</td>\n",
       "      <td>[{'orderId': 'yk34y2', 'orderAmount': 33, 'ord...</td>\n",
       "      <td>[{'paymentMethodId': '8pneoi03z', 'paymentMeth...</td>\n",
       "      <td>[{'transactionId': 'q3lyvbza', 'orderId': 'yk3...</td>\n",
       "    </tr>\n",
       "    <tr>\n",
       "      <th>3</th>\n",
       "      <td>{'customerEmail': 'rubenjuarez@yahoo.com', 'cu...</td>\n",
       "      <td>False</td>\n",
       "      <td>[{'orderId': 'fbz9ep', 'orderAmount': 34, 'ord...</td>\n",
       "      <td>[{'paymentMethodId': 'pdxjdwui4', 'paymentMeth...</td>\n",
       "      <td>[{'transactionId': 'vx4cjc27', 'orderId': 'fbz...</td>\n",
       "    </tr>\n",
       "    <tr>\n",
       "      <th>4</th>\n",
       "      <td>{'customerEmail': 'uchen@malone.com', 'custome...</td>\n",
       "      <td>True</td>\n",
       "      <td>[{'orderId': '56h7iw', 'orderAmount': 71, 'ord...</td>\n",
       "      <td>[{'paymentMethodId': 'w1i1zq3rg', 'paymentMeth...</td>\n",
       "      <td>[{'transactionId': 'q8j3dgni', 'orderId': '56h...</td>\n",
       "    </tr>\n",
       "  </tbody>\n",
       "</table>\n",
       "</div>"
      ],
      "text/plain": [
       "                                            customer  fraudulent  \\\n",
       "0  {'customerEmail': 'josephhoward@yahoo.com', 'c...       False   \n",
       "1  {'customerEmail': 'evansjeffery@yahoo.com', 'c...        True   \n",
       "2  {'customerEmail': 'andersonwilliam@yahoo.com',...       False   \n",
       "3  {'customerEmail': 'rubenjuarez@yahoo.com', 'cu...       False   \n",
       "4  {'customerEmail': 'uchen@malone.com', 'custome...        True   \n",
       "\n",
       "                                              orders  \\\n",
       "0  [{'orderId': 'vjbdvd', 'orderAmount': 18, 'ord...   \n",
       "1  [{'orderId': 'nlghpa', 'orderAmount': 45, 'ord...   \n",
       "2  [{'orderId': 'yk34y2', 'orderAmount': 33, 'ord...   \n",
       "3  [{'orderId': 'fbz9ep', 'orderAmount': 34, 'ord...   \n",
       "4  [{'orderId': '56h7iw', 'orderAmount': 71, 'ord...   \n",
       "\n",
       "                                      paymentMethods  \\\n",
       "0  [{'paymentMethodId': 'wt07xm68b', 'paymentMeth...   \n",
       "1  [{'paymentMethodId': 'y3xp697jx', 'paymentMeth...   \n",
       "2  [{'paymentMethodId': '8pneoi03z', 'paymentMeth...   \n",
       "3  [{'paymentMethodId': 'pdxjdwui4', 'paymentMeth...   \n",
       "4  [{'paymentMethodId': 'w1i1zq3rg', 'paymentMeth...   \n",
       "\n",
       "                                        transactions  \n",
       "0  [{'transactionId': 'a9lcj51r', 'orderId': 'vjb...  \n",
       "1  [{'transactionId': '5mi94sfw', 'orderId': 'nlg...  \n",
       "2  [{'transactionId': 'q3lyvbza', 'orderId': 'yk3...  \n",
       "3  [{'transactionId': 'vx4cjc27', 'orderId': 'fbz...  \n",
       "4  [{'transactionId': 'q8j3dgni', 'orderId': '56h...  "
      ]
     },
     "execution_count": 322,
     "metadata": {},
     "output_type": "execute_result"
    }
   ],
   "source": [
    "df.head()"
   ]
  },
  {
   "cell_type": "code",
   "execution_count": 323,
   "metadata": {},
   "outputs": [],
   "source": [
    "df_customer =pd.DataFrame(df['customer'].tolist())"
   ]
  },
  {
   "cell_type": "code",
   "execution_count": 324,
   "metadata": {},
   "outputs": [
    {
     "data": {
      "text/html": [
       "<div>\n",
       "<style scoped>\n",
       "    .dataframe tbody tr th:only-of-type {\n",
       "        vertical-align: middle;\n",
       "    }\n",
       "\n",
       "    .dataframe tbody tr th {\n",
       "        vertical-align: top;\n",
       "    }\n",
       "\n",
       "    .dataframe thead th {\n",
       "        text-align: right;\n",
       "    }\n",
       "</style>\n",
       "<table border=\"1\" class=\"dataframe\">\n",
       "  <thead>\n",
       "    <tr style=\"text-align: right;\">\n",
       "      <th></th>\n",
       "      <th>customerBillingAddress</th>\n",
       "      <th>customerDevice</th>\n",
       "      <th>customerEmail</th>\n",
       "      <th>customerIPAddress</th>\n",
       "      <th>customerPhone</th>\n",
       "    </tr>\n",
       "  </thead>\n",
       "  <tbody>\n",
       "    <tr>\n",
       "      <th>0</th>\n",
       "      <td>5493 Jones Islands\\nBrownside, CA 51896</td>\n",
       "      <td>yyeiaxpltf82440jnb3v</td>\n",
       "      <td>josephhoward@yahoo.com</td>\n",
       "      <td>8.129.104.40</td>\n",
       "      <td>400-108-5415</td>\n",
       "    </tr>\n",
       "    <tr>\n",
       "      <th>1</th>\n",
       "      <td>356 Elizabeth Inlet Suite 120\\nPort Joshuabury...</td>\n",
       "      <td>r0jpm7xaeqqa3kr6mzum</td>\n",
       "      <td>evansjeffery@yahoo.com</td>\n",
       "      <td>219.173.211.202</td>\n",
       "      <td>1-788-091-7546</td>\n",
       "    </tr>\n",
       "    <tr>\n",
       "      <th>2</th>\n",
       "      <td>8478 Sean Ridges Apt. 441\\nDavisberg, PR 72250</td>\n",
       "      <td>4m7h5ipl1shyavt6vv2r</td>\n",
       "      <td>andersonwilliam@yahoo.com</td>\n",
       "      <td>67b7:3db8:67e0:3bea:b9d0:90c1:2b60:b9f0</td>\n",
       "      <td>024.420.0375</td>\n",
       "    </tr>\n",
       "    <tr>\n",
       "      <th>3</th>\n",
       "      <td>7769 Elizabeth Bridge Apt. 343\\nNortonstad, FM...</td>\n",
       "      <td>slovx60t0i558may4ks0</td>\n",
       "      <td>rubenjuarez@yahoo.com</td>\n",
       "      <td>95de:8565:5a66:792c:26e0:6cfb:7d87:11af</td>\n",
       "      <td>670.664.8168x94985</td>\n",
       "    </tr>\n",
       "    <tr>\n",
       "      <th>4</th>\n",
       "      <td>148 Russell Lodge Apt. 445\\nPort Jenniferside,...</td>\n",
       "      <td>j0pd24k5h8dl2fqu0cz4</td>\n",
       "      <td>uchen@malone.com</td>\n",
       "      <td>196.89.235.192</td>\n",
       "      <td>1-981-877-0870</td>\n",
       "    </tr>\n",
       "  </tbody>\n",
       "</table>\n",
       "</div>"
      ],
      "text/plain": [
       "                              customerBillingAddress        customerDevice  \\\n",
       "0            5493 Jones Islands\\nBrownside, CA 51896  yyeiaxpltf82440jnb3v   \n",
       "1  356 Elizabeth Inlet Suite 120\\nPort Joshuabury...  r0jpm7xaeqqa3kr6mzum   \n",
       "2     8478 Sean Ridges Apt. 441\\nDavisberg, PR 72250  4m7h5ipl1shyavt6vv2r   \n",
       "3  7769 Elizabeth Bridge Apt. 343\\nNortonstad, FM...  slovx60t0i558may4ks0   \n",
       "4  148 Russell Lodge Apt. 445\\nPort Jenniferside,...  j0pd24k5h8dl2fqu0cz4   \n",
       "\n",
       "               customerEmail                        customerIPAddress  \\\n",
       "0     josephhoward@yahoo.com                             8.129.104.40   \n",
       "1     evansjeffery@yahoo.com                          219.173.211.202   \n",
       "2  andersonwilliam@yahoo.com  67b7:3db8:67e0:3bea:b9d0:90c1:2b60:b9f0   \n",
       "3      rubenjuarez@yahoo.com  95de:8565:5a66:792c:26e0:6cfb:7d87:11af   \n",
       "4           uchen@malone.com                           196.89.235.192   \n",
       "\n",
       "        customerPhone  \n",
       "0        400-108-5415  \n",
       "1      1-788-091-7546  \n",
       "2        024.420.0375  \n",
       "3  670.664.8168x94985  \n",
       "4      1-981-877-0870  "
      ]
     },
     "execution_count": 324,
     "metadata": {},
     "output_type": "execute_result"
    }
   ],
   "source": [
    "df_customer.head()"
   ]
  },
  {
   "cell_type": "code",
   "execution_count": 325,
   "metadata": {},
   "outputs": [],
   "source": [
    "def flatten(value):\n",
    "    flatten_values = []\n",
    "    for data in value:\n",
    "        for values in data:\n",
    "            flatten_values.append(values)\n",
    "    return flatten_values\n",
    "            "
   ]
  },
  {
   "cell_type": "code",
   "execution_count": 326,
   "metadata": {},
   "outputs": [],
   "source": [
    "df_trans = list(df['transactions'])"
   ]
  },
  {
   "cell_type": "code",
   "execution_count": 333,
   "metadata": {},
   "outputs": [],
   "source": [
    "df_transcations = pd.DataFrame(flatten(list(df['transactions'])))\n"
   ]
  },
  {
   "cell_type": "code",
   "execution_count": 369,
   "metadata": {},
   "outputs": [
    {
     "data": {
      "text/html": [
       "<div>\n",
       "<style scoped>\n",
       "    .dataframe tbody tr th:only-of-type {\n",
       "        vertical-align: middle;\n",
       "    }\n",
       "\n",
       "    .dataframe tbody tr th {\n",
       "        vertical-align: top;\n",
       "    }\n",
       "\n",
       "    .dataframe thead th {\n",
       "        text-align: right;\n",
       "    }\n",
       "</style>\n",
       "<table border=\"1\" class=\"dataframe\">\n",
       "  <thead>\n",
       "    <tr style=\"text-align: right;\">\n",
       "      <th></th>\n",
       "      <th>orderId</th>\n",
       "      <th>paymentMethodId</th>\n",
       "      <th>transactionAmount</th>\n",
       "      <th>transactionFailed</th>\n",
       "      <th>transactionId</th>\n",
       "    </tr>\n",
       "  </thead>\n",
       "  <tbody>\n",
       "    <tr>\n",
       "      <th>0</th>\n",
       "      <td>vjbdvd</td>\n",
       "      <td>wt07xm68b</td>\n",
       "      <td>18</td>\n",
       "      <td>1</td>\n",
       "      <td>a9lcj51r</td>\n",
       "    </tr>\n",
       "    <tr>\n",
       "      <th>1</th>\n",
       "      <td>yp6x27</td>\n",
       "      <td>wt07xm68b</td>\n",
       "      <td>26</td>\n",
       "      <td>1</td>\n",
       "      <td>y4wcv03i</td>\n",
       "    </tr>\n",
       "    <tr>\n",
       "      <th>2</th>\n",
       "      <td>nlghpa</td>\n",
       "      <td>41ug157xz</td>\n",
       "      <td>45</td>\n",
       "      <td>1</td>\n",
       "      <td>5mi94sfw</td>\n",
       "    </tr>\n",
       "    <tr>\n",
       "      <th>3</th>\n",
       "      <td>uw0eeb</td>\n",
       "      <td>41ug157xz</td>\n",
       "      <td>23</td>\n",
       "      <td>1</td>\n",
       "      <td>br8ba1nu</td>\n",
       "    </tr>\n",
       "    <tr>\n",
       "      <th>4</th>\n",
       "      <td>bn44oh</td>\n",
       "      <td>y3xp697jx</td>\n",
       "      <td>43</td>\n",
       "      <td>0</td>\n",
       "      <td>a33145ss</td>\n",
       "    </tr>\n",
       "  </tbody>\n",
       "</table>\n",
       "</div>"
      ],
      "text/plain": [
       "  orderId paymentMethodId  transactionAmount  transactionFailed transactionId\n",
       "0  vjbdvd       wt07xm68b                 18                  1      a9lcj51r\n",
       "1  yp6x27       wt07xm68b                 26                  1      y4wcv03i\n",
       "2  nlghpa       41ug157xz                 45                  1      5mi94sfw\n",
       "3  uw0eeb       41ug157xz                 23                  1      br8ba1nu\n",
       "4  bn44oh       y3xp697jx                 43                  0      a33145ss"
      ]
     },
     "execution_count": 369,
     "metadata": {},
     "output_type": "execute_result"
    }
   ],
   "source": [
    "# df_transcations['transactionFailed'] = pd.get_dummies(df_transcations['transactionFailed'])\n",
    "df_transcations.head()"
   ]
  },
  {
   "cell_type": "code",
   "execution_count": 335,
   "metadata": {},
   "outputs": [
    {
     "data": {
      "text/html": [
       "<div>\n",
       "<style scoped>\n",
       "    .dataframe tbody tr th:only-of-type {\n",
       "        vertical-align: middle;\n",
       "    }\n",
       "\n",
       "    .dataframe tbody tr th {\n",
       "        vertical-align: top;\n",
       "    }\n",
       "\n",
       "    .dataframe thead th {\n",
       "        text-align: right;\n",
       "    }\n",
       "</style>\n",
       "<table border=\"1\" class=\"dataframe\">\n",
       "  <thead>\n",
       "    <tr style=\"text-align: right;\">\n",
       "      <th></th>\n",
       "      <th>paymentMethodId</th>\n",
       "      <th>paymentMethodIssuer</th>\n",
       "      <th>paymentMethodProvider</th>\n",
       "      <th>paymentMethodRegistrationFailure</th>\n",
       "      <th>paymentMethodType</th>\n",
       "    </tr>\n",
       "  </thead>\n",
       "  <tbody>\n",
       "    <tr>\n",
       "      <th>0</th>\n",
       "      <td>wt07xm68b</td>\n",
       "      <td>Citizens First Banks</td>\n",
       "      <td>JCB 16 digit</td>\n",
       "      <td>True</td>\n",
       "      <td>card</td>\n",
       "    </tr>\n",
       "    <tr>\n",
       "      <th>1</th>\n",
       "      <td>y3xp697jx</td>\n",
       "      <td>Solace Banks</td>\n",
       "      <td>VISA 16 digit</td>\n",
       "      <td>True</td>\n",
       "      <td>bitcoin</td>\n",
       "    </tr>\n",
       "    <tr>\n",
       "      <th>2</th>\n",
       "      <td>6krszxc05</td>\n",
       "      <td>Vertex Bancorp</td>\n",
       "      <td>VISA 16 digit</td>\n",
       "      <td>False</td>\n",
       "      <td>card</td>\n",
       "    </tr>\n",
       "    <tr>\n",
       "      <th>3</th>\n",
       "      <td>5z1szj2he</td>\n",
       "      <td>His Majesty Bank Corp.</td>\n",
       "      <td>Diners Club / Carte Blanche</td>\n",
       "      <td>False</td>\n",
       "      <td>card</td>\n",
       "    </tr>\n",
       "    <tr>\n",
       "      <th>4</th>\n",
       "      <td>m52tx8e1s</td>\n",
       "      <td>Vertex Bancorp</td>\n",
       "      <td>Mastercard</td>\n",
       "      <td>False</td>\n",
       "      <td>card</td>\n",
       "    </tr>\n",
       "  </tbody>\n",
       "</table>\n",
       "</div>"
      ],
      "text/plain": [
       "  paymentMethodId     paymentMethodIssuer        paymentMethodProvider  \\\n",
       "0       wt07xm68b    Citizens First Banks                 JCB 16 digit   \n",
       "1       y3xp697jx            Solace Banks                VISA 16 digit   \n",
       "2       6krszxc05          Vertex Bancorp                VISA 16 digit   \n",
       "3       5z1szj2he  His Majesty Bank Corp.  Diners Club / Carte Blanche   \n",
       "4       m52tx8e1s          Vertex Bancorp                   Mastercard   \n",
       "\n",
       "   paymentMethodRegistrationFailure paymentMethodType  \n",
       "0                              True              card  \n",
       "1                              True           bitcoin  \n",
       "2                             False              card  \n",
       "3                             False              card  \n",
       "4                             False              card  "
      ]
     },
     "execution_count": 335,
     "metadata": {},
     "output_type": "execute_result"
    }
   ],
   "source": [
    "df_payment = pd.DataFrame(flatten(list(df['paymentMethods'])))\n",
    "df_payment.head()"
   ]
  },
  {
   "cell_type": "code",
   "execution_count": 336,
   "metadata": {},
   "outputs": [],
   "source": [
    "df_order = pd.DataFrame([])\n",
    "df_od = pd.Series([])\n",
    "for i in range(len(df)):\n",
    "    for j in range (len(df.iloc[i][\"orders\"])):\n",
    "        df_od['fraudulend'] = df.iloc[i]['fraudulent']\n",
    "        df_od['customerEmail'] = df.iloc[i]['customer']['customerEmail']\n",
    "        df_od['orderId'] = df.iloc[i][\"orders\"][j]['orderId']\n",
    "#         print(df_od['orderId'])\n",
    "        df_order = df_order.append(df_od,ignore_index=True)\n",
    "        \n",
    "        "
   ]
  },
  {
   "cell_type": "code",
   "execution_count": 337,
   "metadata": {},
   "outputs": [
    {
     "data": {
      "text/html": [
       "<div>\n",
       "<style scoped>\n",
       "    .dataframe tbody tr th:only-of-type {\n",
       "        vertical-align: middle;\n",
       "    }\n",
       "\n",
       "    .dataframe tbody tr th {\n",
       "        vertical-align: top;\n",
       "    }\n",
       "\n",
       "    .dataframe thead th {\n",
       "        text-align: right;\n",
       "    }\n",
       "</style>\n",
       "<table border=\"1\" class=\"dataframe\">\n",
       "  <thead>\n",
       "    <tr style=\"text-align: right;\">\n",
       "      <th></th>\n",
       "      <th>customerEmail</th>\n",
       "      <th>fraudulend</th>\n",
       "      <th>orderId</th>\n",
       "    </tr>\n",
       "  </thead>\n",
       "  <tbody>\n",
       "    <tr>\n",
       "      <th>0</th>\n",
       "      <td>josephhoward@yahoo.com</td>\n",
       "      <td>0.0</td>\n",
       "      <td>vjbdvd</td>\n",
       "    </tr>\n",
       "    <tr>\n",
       "      <th>1</th>\n",
       "      <td>josephhoward@yahoo.com</td>\n",
       "      <td>0.0</td>\n",
       "      <td>yp6x27</td>\n",
       "    </tr>\n",
       "    <tr>\n",
       "      <th>2</th>\n",
       "      <td>evansjeffery@yahoo.com</td>\n",
       "      <td>1.0</td>\n",
       "      <td>nlghpa</td>\n",
       "    </tr>\n",
       "    <tr>\n",
       "      <th>3</th>\n",
       "      <td>evansjeffery@yahoo.com</td>\n",
       "      <td>1.0</td>\n",
       "      <td>uw0eeb</td>\n",
       "    </tr>\n",
       "    <tr>\n",
       "      <th>4</th>\n",
       "      <td>evansjeffery@yahoo.com</td>\n",
       "      <td>1.0</td>\n",
       "      <td>bn44oh</td>\n",
       "    </tr>\n",
       "  </tbody>\n",
       "</table>\n",
       "</div>"
      ],
      "text/plain": [
       "            customerEmail  fraudulend orderId\n",
       "0  josephhoward@yahoo.com         0.0  vjbdvd\n",
       "1  josephhoward@yahoo.com         0.0  yp6x27\n",
       "2  evansjeffery@yahoo.com         1.0  nlghpa\n",
       "3  evansjeffery@yahoo.com         1.0  uw0eeb\n",
       "4  evansjeffery@yahoo.com         1.0  bn44oh"
      ]
     },
     "execution_count": 337,
     "metadata": {},
     "output_type": "execute_result"
    }
   ],
   "source": [
    "df_order.head()"
   ]
  },
  {
   "cell_type": "code",
   "execution_count": 281,
   "metadata": {},
   "outputs": [
    {
     "data": {
      "text/plain": [
       "(478, 3)"
      ]
     },
     "execution_count": 281,
     "metadata": {},
     "output_type": "execute_result"
    }
   ],
   "source": [
    "df_order.shape"
   ]
  },
  {
   "cell_type": "code",
   "execution_count": 282,
   "metadata": {},
   "outputs": [],
   "source": [
    "df_ord = pd.DataFrame(flatten(list(df['orders'])))\n"
   ]
  },
  {
   "cell_type": "code",
   "execution_count": 285,
   "metadata": {},
   "outputs": [],
   "source": [
    "orders = pd.merge(df_ord,df_order,on='orderId',how = 'left')"
   ]
  },
  {
   "cell_type": "code",
   "execution_count": 286,
   "metadata": {},
   "outputs": [
    {
     "data": {
      "text/html": [
       "<div>\n",
       "<style scoped>\n",
       "    .dataframe tbody tr th:only-of-type {\n",
       "        vertical-align: middle;\n",
       "    }\n",
       "\n",
       "    .dataframe tbody tr th {\n",
       "        vertical-align: top;\n",
       "    }\n",
       "\n",
       "    .dataframe thead th {\n",
       "        text-align: right;\n",
       "    }\n",
       "</style>\n",
       "<table border=\"1\" class=\"dataframe\">\n",
       "  <thead>\n",
       "    <tr style=\"text-align: right;\">\n",
       "      <th></th>\n",
       "      <th>orderAmount</th>\n",
       "      <th>orderId</th>\n",
       "      <th>orderShippingAddress</th>\n",
       "      <th>orderState</th>\n",
       "      <th>customerEmail</th>\n",
       "      <th>fraudulend</th>\n",
       "    </tr>\n",
       "  </thead>\n",
       "  <tbody>\n",
       "    <tr>\n",
       "      <th>0</th>\n",
       "      <td>18</td>\n",
       "      <td>vjbdvd</td>\n",
       "      <td>5493 Jones Islands\\nBrownside, CA 51896</td>\n",
       "      <td>pending</td>\n",
       "      <td>josephhoward@yahoo.com</td>\n",
       "      <td>0.0</td>\n",
       "    </tr>\n",
       "    <tr>\n",
       "      <th>1</th>\n",
       "      <td>26</td>\n",
       "      <td>yp6x27</td>\n",
       "      <td>5493 Jones Islands\\nBrownside, CA 51896</td>\n",
       "      <td>fulfilled</td>\n",
       "      <td>josephhoward@yahoo.com</td>\n",
       "      <td>0.0</td>\n",
       "    </tr>\n",
       "    <tr>\n",
       "      <th>2</th>\n",
       "      <td>45</td>\n",
       "      <td>nlghpa</td>\n",
       "      <td>898 Henry Ports\\nNew Keithview, CA 95893-2497</td>\n",
       "      <td>fulfilled</td>\n",
       "      <td>evansjeffery@yahoo.com</td>\n",
       "      <td>1.0</td>\n",
       "    </tr>\n",
       "    <tr>\n",
       "      <th>3</th>\n",
       "      <td>23</td>\n",
       "      <td>uw0eeb</td>\n",
       "      <td>356 Elizabeth Inlet Suite 120\\nPort Joshuabury...</td>\n",
       "      <td>fulfilled</td>\n",
       "      <td>evansjeffery@yahoo.com</td>\n",
       "      <td>1.0</td>\n",
       "    </tr>\n",
       "    <tr>\n",
       "      <th>4</th>\n",
       "      <td>43</td>\n",
       "      <td>bn44oh</td>\n",
       "      <td>5093 Bryan Forks\\nJoshuaton, FM 01565-9801</td>\n",
       "      <td>fulfilled</td>\n",
       "      <td>evansjeffery@yahoo.com</td>\n",
       "      <td>1.0</td>\n",
       "    </tr>\n",
       "  </tbody>\n",
       "</table>\n",
       "</div>"
      ],
      "text/plain": [
       "   orderAmount orderId                               orderShippingAddress  \\\n",
       "0           18  vjbdvd            5493 Jones Islands\\nBrownside, CA 51896   \n",
       "1           26  yp6x27            5493 Jones Islands\\nBrownside, CA 51896   \n",
       "2           45  nlghpa      898 Henry Ports\\nNew Keithview, CA 95893-2497   \n",
       "3           23  uw0eeb  356 Elizabeth Inlet Suite 120\\nPort Joshuabury...   \n",
       "4           43  bn44oh         5093 Bryan Forks\\nJoshuaton, FM 01565-9801   \n",
       "\n",
       "  orderState           customerEmail  fraudulend  \n",
       "0    pending  josephhoward@yahoo.com         0.0  \n",
       "1  fulfilled  josephhoward@yahoo.com         0.0  \n",
       "2  fulfilled  evansjeffery@yahoo.com         1.0  \n",
       "3  fulfilled  evansjeffery@yahoo.com         1.0  \n",
       "4  fulfilled  evansjeffery@yahoo.com         1.0  "
      ]
     },
     "execution_count": 286,
     "metadata": {},
     "output_type": "execute_result"
    }
   ],
   "source": [
    "orders.head()"
   ]
  },
  {
   "cell_type": "code",
   "execution_count": 287,
   "metadata": {},
   "outputs": [
    {
     "data": {
      "text/plain": [
       "(478, 4)"
      ]
     },
     "execution_count": 287,
     "metadata": {},
     "output_type": "execute_result"
    }
   ],
   "source": [
    "df_ord.shape"
   ]
  },
  {
   "cell_type": "code",
   "execution_count": 288,
   "metadata": {},
   "outputs": [],
   "source": [
    "order_customer = pd.merge(orders,df_customer,on='customerEmail',how = 'left')"
   ]
  },
  {
   "cell_type": "code",
   "execution_count": 291,
   "metadata": {},
   "outputs": [
    {
     "data": {
      "text/html": [
       "<div>\n",
       "<style scoped>\n",
       "    .dataframe tbody tr th:only-of-type {\n",
       "        vertical-align: middle;\n",
       "    }\n",
       "\n",
       "    .dataframe tbody tr th {\n",
       "        vertical-align: top;\n",
       "    }\n",
       "\n",
       "    .dataframe thead th {\n",
       "        text-align: right;\n",
       "    }\n",
       "</style>\n",
       "<table border=\"1\" class=\"dataframe\">\n",
       "  <thead>\n",
       "    <tr style=\"text-align: right;\">\n",
       "      <th></th>\n",
       "      <th>orderAmount</th>\n",
       "      <th>orderId</th>\n",
       "      <th>orderShippingAddress</th>\n",
       "      <th>orderState</th>\n",
       "      <th>customerEmail</th>\n",
       "      <th>fraudulend</th>\n",
       "      <th>customerBillingAddress</th>\n",
       "      <th>customerDevice</th>\n",
       "      <th>customerIPAddress</th>\n",
       "      <th>customerPhone</th>\n",
       "    </tr>\n",
       "  </thead>\n",
       "  <tbody>\n",
       "    <tr>\n",
       "      <th>0</th>\n",
       "      <td>18</td>\n",
       "      <td>vjbdvd</td>\n",
       "      <td>5493 Jones Islands\\nBrownside, CA 51896</td>\n",
       "      <td>pending</td>\n",
       "      <td>josephhoward@yahoo.com</td>\n",
       "      <td>0.0</td>\n",
       "      <td>5493 Jones Islands\\nBrownside, CA 51896</td>\n",
       "      <td>yyeiaxpltf82440jnb3v</td>\n",
       "      <td>8.129.104.40</td>\n",
       "      <td>400-108-5415</td>\n",
       "    </tr>\n",
       "    <tr>\n",
       "      <th>1</th>\n",
       "      <td>26</td>\n",
       "      <td>yp6x27</td>\n",
       "      <td>5493 Jones Islands\\nBrownside, CA 51896</td>\n",
       "      <td>fulfilled</td>\n",
       "      <td>josephhoward@yahoo.com</td>\n",
       "      <td>0.0</td>\n",
       "      <td>5493 Jones Islands\\nBrownside, CA 51896</td>\n",
       "      <td>yyeiaxpltf82440jnb3v</td>\n",
       "      <td>8.129.104.40</td>\n",
       "      <td>400-108-5415</td>\n",
       "    </tr>\n",
       "    <tr>\n",
       "      <th>2</th>\n",
       "      <td>45</td>\n",
       "      <td>nlghpa</td>\n",
       "      <td>898 Henry Ports\\nNew Keithview, CA 95893-2497</td>\n",
       "      <td>fulfilled</td>\n",
       "      <td>evansjeffery@yahoo.com</td>\n",
       "      <td>1.0</td>\n",
       "      <td>356 Elizabeth Inlet Suite 120\\nPort Joshuabury...</td>\n",
       "      <td>r0jpm7xaeqqa3kr6mzum</td>\n",
       "      <td>219.173.211.202</td>\n",
       "      <td>1-788-091-7546</td>\n",
       "    </tr>\n",
       "    <tr>\n",
       "      <th>3</th>\n",
       "      <td>23</td>\n",
       "      <td>uw0eeb</td>\n",
       "      <td>356 Elizabeth Inlet Suite 120\\nPort Joshuabury...</td>\n",
       "      <td>fulfilled</td>\n",
       "      <td>evansjeffery@yahoo.com</td>\n",
       "      <td>1.0</td>\n",
       "      <td>356 Elizabeth Inlet Suite 120\\nPort Joshuabury...</td>\n",
       "      <td>r0jpm7xaeqqa3kr6mzum</td>\n",
       "      <td>219.173.211.202</td>\n",
       "      <td>1-788-091-7546</td>\n",
       "    </tr>\n",
       "    <tr>\n",
       "      <th>4</th>\n",
       "      <td>43</td>\n",
       "      <td>bn44oh</td>\n",
       "      <td>5093 Bryan Forks\\nJoshuaton, FM 01565-9801</td>\n",
       "      <td>fulfilled</td>\n",
       "      <td>evansjeffery@yahoo.com</td>\n",
       "      <td>1.0</td>\n",
       "      <td>356 Elizabeth Inlet Suite 120\\nPort Joshuabury...</td>\n",
       "      <td>r0jpm7xaeqqa3kr6mzum</td>\n",
       "      <td>219.173.211.202</td>\n",
       "      <td>1-788-091-7546</td>\n",
       "    </tr>\n",
       "  </tbody>\n",
       "</table>\n",
       "</div>"
      ],
      "text/plain": [
       "   orderAmount orderId                               orderShippingAddress  \\\n",
       "0           18  vjbdvd            5493 Jones Islands\\nBrownside, CA 51896   \n",
       "1           26  yp6x27            5493 Jones Islands\\nBrownside, CA 51896   \n",
       "2           45  nlghpa      898 Henry Ports\\nNew Keithview, CA 95893-2497   \n",
       "3           23  uw0eeb  356 Elizabeth Inlet Suite 120\\nPort Joshuabury...   \n",
       "4           43  bn44oh         5093 Bryan Forks\\nJoshuaton, FM 01565-9801   \n",
       "\n",
       "  orderState           customerEmail  fraudulend  \\\n",
       "0    pending  josephhoward@yahoo.com         0.0   \n",
       "1  fulfilled  josephhoward@yahoo.com         0.0   \n",
       "2  fulfilled  evansjeffery@yahoo.com         1.0   \n",
       "3  fulfilled  evansjeffery@yahoo.com         1.0   \n",
       "4  fulfilled  evansjeffery@yahoo.com         1.0   \n",
       "\n",
       "                              customerBillingAddress        customerDevice  \\\n",
       "0            5493 Jones Islands\\nBrownside, CA 51896  yyeiaxpltf82440jnb3v   \n",
       "1            5493 Jones Islands\\nBrownside, CA 51896  yyeiaxpltf82440jnb3v   \n",
       "2  356 Elizabeth Inlet Suite 120\\nPort Joshuabury...  r0jpm7xaeqqa3kr6mzum   \n",
       "3  356 Elizabeth Inlet Suite 120\\nPort Joshuabury...  r0jpm7xaeqqa3kr6mzum   \n",
       "4  356 Elizabeth Inlet Suite 120\\nPort Joshuabury...  r0jpm7xaeqqa3kr6mzum   \n",
       "\n",
       "  customerIPAddress   customerPhone  \n",
       "0      8.129.104.40    400-108-5415  \n",
       "1      8.129.104.40    400-108-5415  \n",
       "2   219.173.211.202  1-788-091-7546  \n",
       "3   219.173.211.202  1-788-091-7546  \n",
       "4   219.173.211.202  1-788-091-7546  "
      ]
     },
     "execution_count": 291,
     "metadata": {},
     "output_type": "execute_result"
    }
   ],
   "source": [
    "order_customer.head()"
   ]
  },
  {
   "cell_type": "code",
   "execution_count": 295,
   "metadata": {},
   "outputs": [],
   "source": [
    "transcations_payment = pd.merge(df_transcations,df_payment,on ='paymentMethodId',how ='left')"
   ]
  },
  {
   "cell_type": "code",
   "execution_count": 296,
   "metadata": {},
   "outputs": [
    {
     "data": {
      "text/html": [
       "<div>\n",
       "<style scoped>\n",
       "    .dataframe tbody tr th:only-of-type {\n",
       "        vertical-align: middle;\n",
       "    }\n",
       "\n",
       "    .dataframe tbody tr th {\n",
       "        vertical-align: top;\n",
       "    }\n",
       "\n",
       "    .dataframe thead th {\n",
       "        text-align: right;\n",
       "    }\n",
       "</style>\n",
       "<table border=\"1\" class=\"dataframe\">\n",
       "  <thead>\n",
       "    <tr style=\"text-align: right;\">\n",
       "      <th></th>\n",
       "      <th>orderId</th>\n",
       "      <th>paymentMethodId</th>\n",
       "      <th>transactionAmount</th>\n",
       "      <th>transactionFailed</th>\n",
       "      <th>transactionId</th>\n",
       "      <th>paymentMethodIssuer</th>\n",
       "      <th>paymentMethodProvider</th>\n",
       "      <th>paymentMethodRegistrationFailure</th>\n",
       "      <th>paymentMethodType</th>\n",
       "    </tr>\n",
       "  </thead>\n",
       "  <tbody>\n",
       "    <tr>\n",
       "      <th>0</th>\n",
       "      <td>vjbdvd</td>\n",
       "      <td>wt07xm68b</td>\n",
       "      <td>18</td>\n",
       "      <td>False</td>\n",
       "      <td>a9lcj51r</td>\n",
       "      <td>Citizens First Banks</td>\n",
       "      <td>JCB 16 digit</td>\n",
       "      <td>True</td>\n",
       "      <td>card</td>\n",
       "    </tr>\n",
       "    <tr>\n",
       "      <th>1</th>\n",
       "      <td>yp6x27</td>\n",
       "      <td>wt07xm68b</td>\n",
       "      <td>26</td>\n",
       "      <td>False</td>\n",
       "      <td>y4wcv03i</td>\n",
       "      <td>Citizens First Banks</td>\n",
       "      <td>JCB 16 digit</td>\n",
       "      <td>True</td>\n",
       "      <td>card</td>\n",
       "    </tr>\n",
       "    <tr>\n",
       "      <th>2</th>\n",
       "      <td>nlghpa</td>\n",
       "      <td>41ug157xz</td>\n",
       "      <td>45</td>\n",
       "      <td>False</td>\n",
       "      <td>5mi94sfw</td>\n",
       "      <td>Bastion Banks</td>\n",
       "      <td>American Express</td>\n",
       "      <td>False</td>\n",
       "      <td>bitcoin</td>\n",
       "    </tr>\n",
       "    <tr>\n",
       "      <th>3</th>\n",
       "      <td>uw0eeb</td>\n",
       "      <td>41ug157xz</td>\n",
       "      <td>23</td>\n",
       "      <td>False</td>\n",
       "      <td>br8ba1nu</td>\n",
       "      <td>Bastion Banks</td>\n",
       "      <td>American Express</td>\n",
       "      <td>False</td>\n",
       "      <td>bitcoin</td>\n",
       "    </tr>\n",
       "    <tr>\n",
       "      <th>4</th>\n",
       "      <td>bn44oh</td>\n",
       "      <td>y3xp697jx</td>\n",
       "      <td>43</td>\n",
       "      <td>True</td>\n",
       "      <td>a33145ss</td>\n",
       "      <td>Solace Banks</td>\n",
       "      <td>VISA 16 digit</td>\n",
       "      <td>True</td>\n",
       "      <td>bitcoin</td>\n",
       "    </tr>\n",
       "  </tbody>\n",
       "</table>\n",
       "</div>"
      ],
      "text/plain": [
       "  orderId paymentMethodId  transactionAmount  transactionFailed transactionId  \\\n",
       "0  vjbdvd       wt07xm68b                 18              False      a9lcj51r   \n",
       "1  yp6x27       wt07xm68b                 26              False      y4wcv03i   \n",
       "2  nlghpa       41ug157xz                 45              False      5mi94sfw   \n",
       "3  uw0eeb       41ug157xz                 23              False      br8ba1nu   \n",
       "4  bn44oh       y3xp697jx                 43               True      a33145ss   \n",
       "\n",
       "    paymentMethodIssuer paymentMethodProvider  \\\n",
       "0  Citizens First Banks          JCB 16 digit   \n",
       "1  Citizens First Banks          JCB 16 digit   \n",
       "2         Bastion Banks      American Express   \n",
       "3         Bastion Banks      American Express   \n",
       "4          Solace Banks         VISA 16 digit   \n",
       "\n",
       "   paymentMethodRegistrationFailure paymentMethodType  \n",
       "0                              True              card  \n",
       "1                              True              card  \n",
       "2                             False           bitcoin  \n",
       "3                             False           bitcoin  \n",
       "4                              True           bitcoin  "
      ]
     },
     "execution_count": 296,
     "metadata": {},
     "output_type": "execute_result"
    }
   ],
   "source": [
    "transcations_payment.head()"
   ]
  },
  {
   "cell_type": "code",
   "execution_count": 297,
   "metadata": {},
   "outputs": [],
   "source": [
    "complete = pd.merge(order_customer,transcations_payment,on='orderId',how = 'left')"
   ]
  },
  {
   "cell_type": "code",
   "execution_count": 316,
   "metadata": {},
   "outputs": [
    {
     "name": "stdout",
     "output_type": "stream",
     "text": [
      "(819, 18)\n"
     ]
    },
    {
     "data": {
      "text/html": [
       "<div>\n",
       "<style scoped>\n",
       "    .dataframe tbody tr th:only-of-type {\n",
       "        vertical-align: middle;\n",
       "    }\n",
       "\n",
       "    .dataframe tbody tr th {\n",
       "        vertical-align: top;\n",
       "    }\n",
       "\n",
       "    .dataframe thead th {\n",
       "        text-align: right;\n",
       "    }\n",
       "</style>\n",
       "<table border=\"1\" class=\"dataframe\">\n",
       "  <thead>\n",
       "    <tr style=\"text-align: right;\">\n",
       "      <th></th>\n",
       "      <th>orderAmount</th>\n",
       "      <th>orderId</th>\n",
       "      <th>orderShippingAddress</th>\n",
       "      <th>orderState</th>\n",
       "      <th>customerEmail</th>\n",
       "      <th>fraudulend</th>\n",
       "      <th>customerBillingAddress</th>\n",
       "      <th>customerDevice</th>\n",
       "      <th>customerIPAddress</th>\n",
       "      <th>customerPhone</th>\n",
       "      <th>paymentMethodId</th>\n",
       "      <th>transactionAmount</th>\n",
       "      <th>transactionFailed</th>\n",
       "      <th>transactionId</th>\n",
       "      <th>paymentMethodIssuer</th>\n",
       "      <th>paymentMethodProvider</th>\n",
       "      <th>paymentMethodRegistrationFailure</th>\n",
       "      <th>paymentMethodType</th>\n",
       "    </tr>\n",
       "  </thead>\n",
       "  <tbody>\n",
       "    <tr>\n",
       "      <th>0</th>\n",
       "      <td>18</td>\n",
       "      <td>vjbdvd</td>\n",
       "      <td>5493 Jones Islands\\nBrownside, CA 51896</td>\n",
       "      <td>pending</td>\n",
       "      <td>josephhoward@yahoo.com</td>\n",
       "      <td>0.0</td>\n",
       "      <td>5493 Jones Islands\\nBrownside, CA 51896</td>\n",
       "      <td>yyeiaxpltf82440jnb3v</td>\n",
       "      <td>8.129.104.40</td>\n",
       "      <td>400-108-5415</td>\n",
       "      <td>wt07xm68b</td>\n",
       "      <td>18</td>\n",
       "      <td>False</td>\n",
       "      <td>a9lcj51r</td>\n",
       "      <td>Citizens First Banks</td>\n",
       "      <td>JCB 16 digit</td>\n",
       "      <td>True</td>\n",
       "      <td>card</td>\n",
       "    </tr>\n",
       "    <tr>\n",
       "      <th>1</th>\n",
       "      <td>26</td>\n",
       "      <td>yp6x27</td>\n",
       "      <td>5493 Jones Islands\\nBrownside, CA 51896</td>\n",
       "      <td>fulfilled</td>\n",
       "      <td>josephhoward@yahoo.com</td>\n",
       "      <td>0.0</td>\n",
       "      <td>5493 Jones Islands\\nBrownside, CA 51896</td>\n",
       "      <td>yyeiaxpltf82440jnb3v</td>\n",
       "      <td>8.129.104.40</td>\n",
       "      <td>400-108-5415</td>\n",
       "      <td>wt07xm68b</td>\n",
       "      <td>26</td>\n",
       "      <td>False</td>\n",
       "      <td>y4wcv03i</td>\n",
       "      <td>Citizens First Banks</td>\n",
       "      <td>JCB 16 digit</td>\n",
       "      <td>True</td>\n",
       "      <td>card</td>\n",
       "    </tr>\n",
       "    <tr>\n",
       "      <th>2</th>\n",
       "      <td>45</td>\n",
       "      <td>nlghpa</td>\n",
       "      <td>898 Henry Ports\\nNew Keithview, CA 95893-2497</td>\n",
       "      <td>fulfilled</td>\n",
       "      <td>evansjeffery@yahoo.com</td>\n",
       "      <td>1.0</td>\n",
       "      <td>356 Elizabeth Inlet Suite 120\\nPort Joshuabury...</td>\n",
       "      <td>r0jpm7xaeqqa3kr6mzum</td>\n",
       "      <td>219.173.211.202</td>\n",
       "      <td>1-788-091-7546</td>\n",
       "      <td>41ug157xz</td>\n",
       "      <td>45</td>\n",
       "      <td>False</td>\n",
       "      <td>5mi94sfw</td>\n",
       "      <td>Bastion Banks</td>\n",
       "      <td>American Express</td>\n",
       "      <td>False</td>\n",
       "      <td>bitcoin</td>\n",
       "    </tr>\n",
       "    <tr>\n",
       "      <th>3</th>\n",
       "      <td>23</td>\n",
       "      <td>uw0eeb</td>\n",
       "      <td>356 Elizabeth Inlet Suite 120\\nPort Joshuabury...</td>\n",
       "      <td>fulfilled</td>\n",
       "      <td>evansjeffery@yahoo.com</td>\n",
       "      <td>1.0</td>\n",
       "      <td>356 Elizabeth Inlet Suite 120\\nPort Joshuabury...</td>\n",
       "      <td>r0jpm7xaeqqa3kr6mzum</td>\n",
       "      <td>219.173.211.202</td>\n",
       "      <td>1-788-091-7546</td>\n",
       "      <td>41ug157xz</td>\n",
       "      <td>23</td>\n",
       "      <td>False</td>\n",
       "      <td>br8ba1nu</td>\n",
       "      <td>Bastion Banks</td>\n",
       "      <td>American Express</td>\n",
       "      <td>False</td>\n",
       "      <td>bitcoin</td>\n",
       "    </tr>\n",
       "    <tr>\n",
       "      <th>4</th>\n",
       "      <td>43</td>\n",
       "      <td>bn44oh</td>\n",
       "      <td>5093 Bryan Forks\\nJoshuaton, FM 01565-9801</td>\n",
       "      <td>fulfilled</td>\n",
       "      <td>evansjeffery@yahoo.com</td>\n",
       "      <td>1.0</td>\n",
       "      <td>356 Elizabeth Inlet Suite 120\\nPort Joshuabury...</td>\n",
       "      <td>r0jpm7xaeqqa3kr6mzum</td>\n",
       "      <td>219.173.211.202</td>\n",
       "      <td>1-788-091-7546</td>\n",
       "      <td>y3xp697jx</td>\n",
       "      <td>43</td>\n",
       "      <td>True</td>\n",
       "      <td>a33145ss</td>\n",
       "      <td>Solace Banks</td>\n",
       "      <td>VISA 16 digit</td>\n",
       "      <td>True</td>\n",
       "      <td>bitcoin</td>\n",
       "    </tr>\n",
       "  </tbody>\n",
       "</table>\n",
       "</div>"
      ],
      "text/plain": [
       "   orderAmount orderId                               orderShippingAddress  \\\n",
       "0           18  vjbdvd            5493 Jones Islands\\nBrownside, CA 51896   \n",
       "1           26  yp6x27            5493 Jones Islands\\nBrownside, CA 51896   \n",
       "2           45  nlghpa      898 Henry Ports\\nNew Keithview, CA 95893-2497   \n",
       "3           23  uw0eeb  356 Elizabeth Inlet Suite 120\\nPort Joshuabury...   \n",
       "4           43  bn44oh         5093 Bryan Forks\\nJoshuaton, FM 01565-9801   \n",
       "\n",
       "  orderState           customerEmail  fraudulend  \\\n",
       "0    pending  josephhoward@yahoo.com         0.0   \n",
       "1  fulfilled  josephhoward@yahoo.com         0.0   \n",
       "2  fulfilled  evansjeffery@yahoo.com         1.0   \n",
       "3  fulfilled  evansjeffery@yahoo.com         1.0   \n",
       "4  fulfilled  evansjeffery@yahoo.com         1.0   \n",
       "\n",
       "                              customerBillingAddress        customerDevice  \\\n",
       "0            5493 Jones Islands\\nBrownside, CA 51896  yyeiaxpltf82440jnb3v   \n",
       "1            5493 Jones Islands\\nBrownside, CA 51896  yyeiaxpltf82440jnb3v   \n",
       "2  356 Elizabeth Inlet Suite 120\\nPort Joshuabury...  r0jpm7xaeqqa3kr6mzum   \n",
       "3  356 Elizabeth Inlet Suite 120\\nPort Joshuabury...  r0jpm7xaeqqa3kr6mzum   \n",
       "4  356 Elizabeth Inlet Suite 120\\nPort Joshuabury...  r0jpm7xaeqqa3kr6mzum   \n",
       "\n",
       "  customerIPAddress   customerPhone paymentMethodId  transactionAmount  \\\n",
       "0      8.129.104.40    400-108-5415       wt07xm68b                 18   \n",
       "1      8.129.104.40    400-108-5415       wt07xm68b                 26   \n",
       "2   219.173.211.202  1-788-091-7546       41ug157xz                 45   \n",
       "3   219.173.211.202  1-788-091-7546       41ug157xz                 23   \n",
       "4   219.173.211.202  1-788-091-7546       y3xp697jx                 43   \n",
       "\n",
       "   transactionFailed transactionId   paymentMethodIssuer  \\\n",
       "0              False      a9lcj51r  Citizens First Banks   \n",
       "1              False      y4wcv03i  Citizens First Banks   \n",
       "2              False      5mi94sfw         Bastion Banks   \n",
       "3              False      br8ba1nu         Bastion Banks   \n",
       "4               True      a33145ss          Solace Banks   \n",
       "\n",
       "  paymentMethodProvider  paymentMethodRegistrationFailure paymentMethodType  \n",
       "0          JCB 16 digit                              True              card  \n",
       "1          JCB 16 digit                              True              card  \n",
       "2      American Express                             False           bitcoin  \n",
       "3      American Express                             False           bitcoin  \n",
       "4         VISA 16 digit                              True           bitcoin  "
      ]
     },
     "execution_count": 316,
     "metadata": {},
     "output_type": "execute_result"
    }
   ],
   "source": [
    "print(complete.shape)\n",
    "complete.head()\n"
   ]
  },
  {
   "cell_type": "code",
   "execution_count": 371,
   "metadata": {},
   "outputs": [
    {
     "data": {
      "text/plain": [
       "Text(0.5, 1.0, 'Class Distributions \\n (0:Fraud || 1: No Fraud)')"
      ]
     },
     "execution_count": 371,
     "metadata": {},
     "output_type": "execute_result"
    },
    {
     "data": {
      "image/png": "[encoded data removed]",
      "text/plain": [
       "<Figure size 432x288 with 1 Axes>"
      ]
     },
     "metadata": {
      "needs_background": "light"
     },
     "output_type": "display_data"
    }
   ],
   "source": [
    "colors = [\"#0101DF\", \"#DF0101\"]\n",
    "\n",
    "sns.countplot('fraudulend', data=complete, palette=colors)\n",
    "plt.title('Class Distributions \\n (0:Fraud || 1: No Fraud)', fontsize=14)"
   ]
  },
  {
   "cell_type": "code",
   "execution_count": 380,
   "metadata": {},
   "outputs": [
    {
     "data": {
      "text/plain": [
       "Text(0.5, 1.0, 'Plot for value counts of Payment Method Provider')"
      ]
     },
     "execution_count": 380,
     "metadata": {},
     "output_type": "execute_result"
    },
    {
     "data": {
      "image/png": "[encoded data removed]",
      "text/plain": [
       "<Figure size 1296x288 with 2 Axes>"
      ]
     },
     "metadata": {
      "needs_background": "light"
     },
     "output_type": "display_data"
    }
   ],
   "source": [
    "fig, ax = plt.subplots(1, 2, figsize=(18,4))\n",
    "sns.countplot(complete['paymentMethodType'],ax = ax[0])\n",
    "ax[0].set_title('Plot for Payment Method Type')\n",
    "\n",
    "sns.countplot(complete['paymentMethodProvider'],ax=ax[1])\n",
    "ax[1].set_title('Plot for value counts of Payment Method Provider')\n",
    "# complete['paymentMethodType'].value_counts().plot(kind= 'bar')"
   ]
  },
  {
   "cell_type": "code",
   "execution_count": 364,
   "metadata": {},
   "outputs": [
    {
     "data": {
      "image/png": "[encoded data removed]",
      "text/plain": [
       "<Figure size 1296x288 with 2 Axes>"
      ]
     },
     "metadata": {
      "needs_background": "light"
     },
     "output_type": "display_data"
    }
   ],
   "source": [
    "fig, ax = plt.subplots(1, 2, figsize=(18,4))\n",
    "\n",
    "amount_val = complete['orderAmount'].values\n",
    "time_val = complete['transactionAmount'].values\n",
    "\n",
    "sns.distplot(amount_val, ax=ax[0], color='r')\n",
    "ax[0].set_title('Distribution of Order Amount', fontsize=14)\n",
    "ax[0].set_xlim([min(amount_val), max(amount_val)])\n",
    "\n",
    "sns.distplot(time_val, ax=ax[1], color='b')\n",
    "ax[1].set_title('Distribution of Transaction Amount', fontsize=14)\n",
    "ax[1].set_xlim([min(time_val), max(time_val)])\n",
    "\n",
    "\n",
    "\n",
    "plt.show()"
   ]
  },
  {
   "cell_type": "code",
   "execution_count": 406,
   "metadata": {},
   "outputs": [
    {
     "data": {
      "text/plain": [
       "[Text(0, 0.5, 'Order Amount'), Text(0.5, 0, 'Fraudulend')]"
      ]
     },
     "execution_count": 406,
     "metadata": {},
     "output_type": "execute_result"
    },
    {
     "data": {
      "image/png": "[encoded data removed]",
      "text/plain": [
       "<Figure size 1080x432 with 2 Axes>"
      ]
     },
     "metadata": {
      "needs_background": "light"
     },
     "output_type": "display_data"
    }
   ],
   "source": [
    "fig ,ax = plt.subplots(1,2,figsize =(15,6))\n",
    "sns.scatterplot(complete['fraudulend'],complete['transactionAmount'],ax=ax[0],color='r')\n",
    "ax[0].set_title('Transcation Amount vs fraudulend((0:Fraud || 1: No Fraud)')\n",
    "ax[0].set(xlabel='Fraudulend',ylabel='Transcation Amount')\n",
    "sns.scatterplot(complete['fraudulend'],complete['orderAmount'],ax=ax[1],color ='b')\n",
    "ax[1].set_title('Order Amount vs Fraudulend((0:Fraud || 1: No Fraud)')\n",
    "ax[1].set(xlabel='Fraudulend',ylabel='Order Amount')"
   ]
  },
  {
   "cell_type": "code",
   "execution_count": 442,
   "metadata": {},
   "outputs": [
    {
     "data": {
      "text/plain": [
       "<matplotlib.axes._subplots.AxesSubplot at 0x1d86b8de748>"
      ]
     },
     "execution_count": 442,
     "metadata": {},
     "output_type": "execute_result"
    },
    {
     "data": {
      "image/png": "[encoded data removed]",
      "text/plain": [
       "<Figure size 432x288 with 1 Axes>"
      ]
     },
     "metadata": {},
     "output_type": "display_data"
    }
   ],
   "source": [
    "# fig,ax = plt.subplots(1,1,figsize =(18,10))\n",
    "sns.swarmplot(complete['paymentMethodType'],complete['fraudulend'])\n"
   ]
  },
  {
   "cell_type": "code",
   "execution_count": 315,
   "metadata": {},
   "outputs": [
    {
     "data": {
      "text/plain": [
       "orderAmount                         0\n",
       "orderId                             0\n",
       "orderShippingAddress                0\n",
       "orderState                          0\n",
       "customerEmail                       0\n",
       "fraudulend                          0\n",
       "customerBillingAddress              0\n",
       "customerDevice                      0\n",
       "customerIPAddress                   0\n",
       "customerPhone                       0\n",
       "paymentMethodId                     0\n",
       "transactionAmount                   0\n",
       "transactionFailed                   0\n",
       "transactionId                       0\n",
       "paymentMethodIssuer                 0\n",
       "paymentMethodProvider               0\n",
       "paymentMethodRegistrationFailure    0\n",
       "paymentMethodType                   0\n",
       "dtype: int64"
      ]
     },
     "execution_count": 315,
     "metadata": {},
     "output_type": "execute_result"
    }
   ],
   "source": [
    "complete.isnull().sum()"
   ]
  },
  {
   "cell_type": "code",
   "execution_count": 348,
   "metadata": {},
   "outputs": [
    {
     "data": {
      "text/html": [
       "<div>\n",
       "<style scoped>\n",
       "    .dataframe tbody tr th:only-of-type {\n",
       "        vertical-align: middle;\n",
       "    }\n",
       "\n",
       "    .dataframe tbody tr th {\n",
       "        vertical-align: top;\n",
       "    }\n",
       "\n",
       "    .dataframe thead th {\n",
       "        text-align: right;\n",
       "    }\n",
       "</style>\n",
       "<table border=\"1\" class=\"dataframe\">\n",
       "  <thead>\n",
       "    <tr style=\"text-align: right;\">\n",
       "      <th></th>\n",
       "      <th>orderAmount</th>\n",
       "      <th>fraudulend</th>\n",
       "      <th>transactionAmount</th>\n",
       "    </tr>\n",
       "  </thead>\n",
       "  <tbody>\n",
       "    <tr>\n",
       "      <th>count</th>\n",
       "      <td>819.000000</td>\n",
       "      <td>819.000000</td>\n",
       "      <td>819.000000</td>\n",
       "    </tr>\n",
       "    <tr>\n",
       "      <th>mean</th>\n",
       "      <td>35.147741</td>\n",
       "      <td>0.553114</td>\n",
       "      <td>35.147741</td>\n",
       "    </tr>\n",
       "    <tr>\n",
       "      <th>std</th>\n",
       "      <td>19.640072</td>\n",
       "      <td>0.497475</td>\n",
       "      <td>19.640072</td>\n",
       "    </tr>\n",
       "    <tr>\n",
       "      <th>min</th>\n",
       "      <td>10.000000</td>\n",
       "      <td>0.000000</td>\n",
       "      <td>10.000000</td>\n",
       "    </tr>\n",
       "    <tr>\n",
       "      <th>25%</th>\n",
       "      <td>22.000000</td>\n",
       "      <td>0.000000</td>\n",
       "      <td>22.000000</td>\n",
       "    </tr>\n",
       "    <tr>\n",
       "      <th>50%</th>\n",
       "      <td>34.000000</td>\n",
       "      <td>1.000000</td>\n",
       "      <td>34.000000</td>\n",
       "    </tr>\n",
       "    <tr>\n",
       "      <th>75%</th>\n",
       "      <td>46.000000</td>\n",
       "      <td>1.000000</td>\n",
       "      <td>46.000000</td>\n",
       "    </tr>\n",
       "    <tr>\n",
       "      <th>max</th>\n",
       "      <td>353.000000</td>\n",
       "      <td>1.000000</td>\n",
       "      <td>353.000000</td>\n",
       "    </tr>\n",
       "  </tbody>\n",
       "</table>\n",
       "</div>"
      ],
      "text/plain": [
       "       orderAmount  fraudulend  transactionAmount\n",
       "count   819.000000  819.000000         819.000000\n",
       "mean     35.147741    0.553114          35.147741\n",
       "std      19.640072    0.497475          19.640072\n",
       "min      10.000000    0.000000          10.000000\n",
       "25%      22.000000    0.000000          22.000000\n",
       "50%      34.000000    1.000000          34.000000\n",
       "75%      46.000000    1.000000          46.000000\n",
       "max     353.000000    1.000000         353.000000"
      ]
     },
     "execution_count": 348,
     "metadata": {},
     "output_type": "execute_result"
    }
   ],
   "source": [
    "complete.describe()"
   ]
  },
  {
   "cell_type": "code",
   "execution_count": 317,
   "metadata": {},
   "outputs": [],
   "source": [
    "import matplotlib.pyplot as plt\n",
    "import seaborn as sns "
   ]
  },
  {
   "cell_type": "code",
   "execution_count": 339,
   "metadata": {},
   "outputs": [
    {
     "data": {
      "text/plain": [
       "1.0    453\n",
       "0.0    366\n",
       "Name: fraudulend, dtype: int64"
      ]
     },
     "execution_count": 339,
     "metadata": {},
     "output_type": "execute_result"
    }
   ],
   "source": [
    "complete['fraudulend'].value_counts()"
   ]
  },
  {
   "cell_type": "code",
   "execution_count": 340,
   "metadata": {},
   "outputs": [
    {
     "data": {
      "text/plain": [
       "fulfilled    691\n",
       "failed        84\n",
       "pending       44\n",
       "Name: orderState, dtype: int64"
      ]
     },
     "execution_count": 340,
     "metadata": {},
     "output_type": "execute_result"
    }
   ],
   "source": [
    "complete['orderState'].value_counts()"
   ]
  },
  {
   "cell_type": "code",
   "execution_count": 346,
   "metadata": {},
   "outputs": [
    {
     "name": "stdout",
     "output_type": "stream",
     "text": [
      "Mean transaction Amount 35.14774114774115\n",
      "Max Amount 353\n",
      "Min Amount 10\n"
     ]
    }
   ],
   "source": [
    "\n",
    "print('Mean transaction Amount',complete['transactionAmount'].mean())\n",
    "\n",
    "print('Max Amount',complete['transactionAmount'].max())\n",
    "print('Min Amount',complete['transactionAmount'].min())"
   ]
  },
  {
   "cell_type": "code",
   "execution_count": 347,
   "metadata": {},
   "outputs": [
    {
     "data": {
      "text/plain": [
       "0.27928076569211435"
      ]
     },
     "execution_count": 347,
     "metadata": {},
     "output_type": "execute_result"
    }
   ],
   "source": [
    "complete['transactionAmount'].corr(complete['fraudulend'])\n",
    "#The correlation between the transaction Amount and fraudulend amount is very less, so fraudulend dosen't depend much on the transactionAmount"
   ]
  },
  {
   "cell_type": "code",
   "execution_count": 350,
   "metadata": {},
   "outputs": [
    {
     "data": {
      "text/plain": [
       "0.27928076569211435"
      ]
     },
     "execution_count": 350,
     "metadata": {},
     "output_type": "execute_result"
    }
   ],
   "source": [
    "complete['orderAmount'].corr(complete['fraudulend'])\n",
    "#The correlation between the orderAmount and the fraudulend amount is very less "
   ]
  },
  {
   "cell_type": "code",
   "execution_count": 351,
   "metadata": {},
   "outputs": [
    {
     "data": {
      "text/html": [
       "<div>\n",
       "<style scoped>\n",
       "    .dataframe tbody tr th:only-of-type {\n",
       "        vertical-align: middle;\n",
       "    }\n",
       "\n",
       "    .dataframe tbody tr th {\n",
       "        vertical-align: top;\n",
       "    }\n",
       "\n",
       "    .dataframe thead th {\n",
       "        text-align: right;\n",
       "    }\n",
       "</style>\n",
       "<table border=\"1\" class=\"dataframe\">\n",
       "  <thead>\n",
       "    <tr style=\"text-align: right;\">\n",
       "      <th></th>\n",
       "      <th>orderAmount</th>\n",
       "      <th>fraudulend</th>\n",
       "      <th>transactionAmount</th>\n",
       "      <th>transactionFailed</th>\n",
       "      <th>paymentMethodRegistrationFailure</th>\n",
       "    </tr>\n",
       "  </thead>\n",
       "  <tbody>\n",
       "    <tr>\n",
       "      <th>orderAmount</th>\n",
       "      <td>1.000000</td>\n",
       "      <td>0.279281</td>\n",
       "      <td>1.000000</td>\n",
       "      <td>0.011821</td>\n",
       "      <td>0.027747</td>\n",
       "    </tr>\n",
       "    <tr>\n",
       "      <th>fraudulend</th>\n",
       "      <td>0.279281</td>\n",
       "      <td>1.000000</td>\n",
       "      <td>0.279281</td>\n",
       "      <td>-0.079607</td>\n",
       "      <td>-0.068362</td>\n",
       "    </tr>\n",
       "    <tr>\n",
       "      <th>transactionAmount</th>\n",
       "      <td>1.000000</td>\n",
       "      <td>0.279281</td>\n",
       "      <td>1.000000</td>\n",
       "      <td>0.011821</td>\n",
       "      <td>0.027747</td>\n",
       "    </tr>\n",
       "    <tr>\n",
       "      <th>transactionFailed</th>\n",
       "      <td>0.011821</td>\n",
       "      <td>-0.079607</td>\n",
       "      <td>0.011821</td>\n",
       "      <td>1.000000</td>\n",
       "      <td>0.009077</td>\n",
       "    </tr>\n",
       "    <tr>\n",
       "      <th>paymentMethodRegistrationFailure</th>\n",
       "      <td>0.027747</td>\n",
       "      <td>-0.068362</td>\n",
       "      <td>0.027747</td>\n",
       "      <td>0.009077</td>\n",
       "      <td>1.000000</td>\n",
       "    </tr>\n",
       "  </tbody>\n",
       "</table>\n",
       "</div>"
      ],
      "text/plain": [
       "                                  orderAmount  fraudulend  transactionAmount  \\\n",
       "orderAmount                          1.000000    0.279281           1.000000   \n",
       "fraudulend                           0.279281    1.000000           0.279281   \n",
       "transactionAmount                    1.000000    0.279281           1.000000   \n",
       "transactionFailed                    0.011821   -0.079607           0.011821   \n",
       "paymentMethodRegistrationFailure     0.027747   -0.068362           0.027747   \n",
       "\n",
       "                                  transactionFailed  \\\n",
       "orderAmount                                0.011821   \n",
       "fraudulend                                -0.079607   \n",
       "transactionAmount                          0.011821   \n",
       "transactionFailed                          1.000000   \n",
       "paymentMethodRegistrationFailure           0.009077   \n",
       "\n",
       "                                  paymentMethodRegistrationFailure  \n",
       "orderAmount                                               0.027747  \n",
       "fraudulend                                               -0.068362  \n",
       "transactionAmount                                         0.027747  \n",
       "transactionFailed                                         0.009077  \n",
       "paymentMethodRegistrationFailure                          1.000000  "
      ]
     },
     "execution_count": 351,
     "metadata": {},
     "output_type": "execute_result"
    }
   ],
   "source": [
    "complete.corr()"
   ]
  },
  {
   "cell_type": "code",
   "execution_count": 353,
   "metadata": {},
   "outputs": [
    {
     "data": {
      "text/plain": [
       "Text(0.5, 1.0, 'Correlation plot')"
      ]
     },
     "execution_count": 353,
     "metadata": {},
     "output_type": "execute_result"
    },
    {
     "data": {
      "image/png": "[encoded data removed]",
      "text/plain": [
       "<Figure size 864x720 with 2 Axes>"
      ]
     },
     "metadata": {
      "needs_background": "light"
     },
     "output_type": "display_data"
    }
   ],
   "source": [
    "correl = complete.corr(method= 'spearman')\n",
    "f, ax = plt.subplots(figsize=(12, 10))\n",
    "sns.heatmap(correl, ax=ax, cmap=\"YlGnBu\", linewidths=0.1)\n",
    "plt.title('Correlation plot')"
   ]
  },
  {
   "cell_type": "code",
   "execution_count": 447,
   "metadata": {},
   "outputs": [],
   "source": [
    "final_df = complete[['orderAmount','orderState','fraudulend','transactionAmount','transactionFailed','paymentMethodIssuer','paymentMethodType','paymentMethodRegistrationFailure','paymentMethodProvider']]"
   ]
  },
  {
   "cell_type": "markdown",
   "metadata": {},
   "source": [
    "## Building machine learning models "
   ]
  },
  {
   "cell_type": "code",
   "execution_count": 449,
   "metadata": {},
   "outputs": [],
   "source": [
    "final_df = pd.get_dummies(final_df)"
   ]
  },
  {
   "cell_type": "code",
   "execution_count": 474,
   "metadata": {},
   "outputs": [
    {
     "name": "stdout",
     "output_type": "stream",
     "text": [
      "(819, 41)\n"
     ]
    }
   ],
   "source": [
    "print(final_df.shape)\n",
    "final_df.head()\n",
    "final_df['transactionFailed'] = pd.get_dummies(final_df['transactionFailed'])\n",
    "final_df['paymentMethodRegistrationFailure'] = pd.get_dummies(final_df['paymentMethodRegistrationFailure'])"
   ]
  },
  {
   "cell_type": "code",
   "execution_count": 475,
   "metadata": {},
   "outputs": [
    {
     "data": {
      "text/plain": [
       "(819, 40)"
      ]
     },
     "execution_count": 475,
     "metadata": {},
     "output_type": "execute_result"
    }
   ],
   "source": [
    "Target = final_df['fraudulend']\n",
    "X = final_df.drop('fraudulend',axis =1 )\n",
    "X.shape"
   ]
  },
  {
   "cell_type": "code",
   "execution_count": 476,
   "metadata": {},
   "outputs": [],
   "source": [
    "from sklearn.model_selection import train_test_split\n",
    "X_train,X_test,Y_train,Y_test = train_test_split(X,Target,test_size =20,random_state =12)"
   ]
  },
  {
   "cell_type": "code",
   "execution_count": 477,
   "metadata": {},
   "outputs": [
    {
     "data": {
      "text/plain": [
       "(799, 40)"
      ]
     },
     "execution_count": 477,
     "metadata": {},
     "output_type": "execute_result"
    }
   ],
   "source": [
    "X_train.shape"
   ]
  },
  {
   "cell_type": "markdown",
   "metadata": {},
   "source": [
    "### LogisticRegression"
   ]
  },
  {
   "cell_type": "code",
   "execution_count": 511,
   "metadata": {},
   "outputs": [],
   "source": [
    "from sklearn.metrics import accuracy_score,confusion_matrix,classification_report\n",
    "from sklearn.linear_model import LogisticRegression\n",
    "LR = LogisticRegression()"
   ]
  },
  {
   "cell_type": "code",
   "execution_count": 520,
   "metadata": {},
   "outputs": [
    {
     "name": "stderr",
     "output_type": "stream",
     "text": [
      "C:\\ProgramData\\Anaconda3\\lib\\site-packages\\sklearn\\linear_model\\logistic.py:433: FutureWarning: Default solver will be changed to 'lbfgs' in 0.22. Specify a solver to silence this warning.\n",
      "  FutureWarning)\n"
     ]
    },
    {
     "data": {
      "text/plain": [
       "LogisticRegression(C=1.0, class_weight=None, dual=False, fit_intercept=True,\n",
       "          intercept_scaling=1, max_iter=100, multi_class='warn',\n",
       "          n_jobs=None, penalty='l2', random_state=None, solver='warn',\n",
       "          tol=0.0001, verbose=0, warm_start=False)"
      ]
     },
     "execution_count": 520,
     "metadata": {},
     "output_type": "execute_result"
    }
   ],
   "source": [
    "LR.fit(X_train,Y_train)"
   ]
  },
  {
   "cell_type": "code",
   "execution_count": 539,
   "metadata": {},
   "outputs": [
    {
     "data": {
      "text/plain": [
       "0.7747183979974969"
      ]
     },
     "execution_count": 539,
     "metadata": {},
     "output_type": "execute_result"
    }
   ],
   "source": [
    "pred = LR.predict(X_train)\n",
    "accuracy_score(Y_train,pred)"
   ]
  },
  {
   "cell_type": "code",
   "execution_count": 540,
   "metadata": {},
   "outputs": [
    {
     "name": "stdout",
     "output_type": "stream",
     "text": [
      "Accuracy_score is   0.65\n",
      "\n",
      "\n",
      "Confusion_matrix\n",
      "[[6 3]\n",
      " [4 7]]\n"
     ]
    }
   ],
   "source": [
    "predss = LR.predict(X_test)\n",
    "print('Accuracy_score is  ',accuracy_score(Y_test,predss))\n",
    "print('\\n')\n",
    "print('Confusion_matrix')\n",
    "print(confusion_matrix(Y_test,predss))\n"
   ]
  },
  {
   "cell_type": "code",
   "execution_count": 523,
   "metadata": {},
   "outputs": [
    {
     "name": "stdout",
     "output_type": "stream",
     "text": [
      "              precision    recall  f1-score   support\n",
      "\n",
      "         0.0       0.90      1.00      0.95         9\n",
      "         1.0       1.00      0.91      0.95        11\n",
      "\n",
      "   micro avg       0.95      0.95      0.95        20\n",
      "   macro avg       0.95      0.95      0.95        20\n",
      "weighted avg       0.96      0.95      0.95        20\n",
      "\n"
     ]
    }
   ],
   "source": [
    "print(classification_report(Y_test,preds))"
   ]
  },
  {
   "cell_type": "markdown",
   "metadata": {},
   "source": [
    "# Random forest classifier\n"
   ]
  },
  {
   "cell_type": "code",
   "execution_count": 501,
   "metadata": {},
   "outputs": [],
   "source": [
    "from sklearn.ensemble import RandomForestClassifier\n",
    "from sklearn.model_selection import cross_val_score"
   ]
  },
  {
   "cell_type": "code",
   "execution_count": 485,
   "metadata": {},
   "outputs": [],
   "source": [
    "rf = RandomForestClassifier()"
   ]
  },
  {
   "cell_type": "code",
   "execution_count": 488,
   "metadata": {},
   "outputs": [
    {
     "data": {
      "text/plain": [
       "RandomForestClassifier(bootstrap=True, class_weight=None, criterion='gini',\n",
       "            max_depth=None, max_features='auto', max_leaf_nodes=None,\n",
       "            min_impurity_decrease=0.0, min_impurity_split=None,\n",
       "            min_samples_leaf=1, min_samples_split=2,\n",
       "            min_weight_fraction_leaf=0.0, n_estimators=10, n_jobs=None,\n",
       "            oob_score=False, random_state=None, verbose=0,\n",
       "            warm_start=False)"
      ]
     },
     "execution_count": 488,
     "metadata": {},
     "output_type": "execute_result"
    }
   ],
   "source": [
    "rf.fit(X_train,Y_train)"
   ]
  },
  {
   "cell_type": "markdown",
   "metadata": {},
   "source": [
    "### prediction on training data\n"
   ]
  },
  {
   "cell_type": "code",
   "execution_count": 524,
   "metadata": {},
   "outputs": [
    {
     "name": "stdout",
     "output_type": "stream",
     "text": [
      "Accuracy score of Training Data is\n"
     ]
    },
    {
     "data": {
      "text/plain": [
       "0.9949937421777222"
      ]
     },
     "execution_count": 524,
     "metadata": {},
     "output_type": "execute_result"
    }
   ],
   "source": [
    "preds = rf.predict(X_train)\n",
    "print('Accuracy of Training Data is')\n",
    "accuracy_score(Y_train,preds)"
   ]
  },
  {
   "cell_type": "code",
   "execution_count": 514,
   "metadata": {},
   "outputs": [
    {
     "name": "stdout",
     "output_type": "stream",
     "text": [
      "Accuracy_score is   0.95\n",
      "\n",
      "\n",
      "Confusion_matrix\n",
      "[[ 9  0]\n",
      " [ 1 10]]\n"
     ]
    }
   ],
   "source": [
    "preds = rf.predict(X_test)\n",
    "print('Accuracy of  ',accuracy_score(Y_test,preds))\n",
    "print('\\n')\n",
    "print('Confusion_matrix')\n",
    "print(confusion_matrix(Y_test,preds))\n"
   ]
  },
  {
   "cell_type": "code",
   "execution_count": 517,
   "metadata": {},
   "outputs": [
    {
     "name": "stdout",
     "output_type": "stream",
     "text": [
      "classificaton report\n",
      "              precision    recall  f1-score   support\n",
      "\n",
      "         0.0       0.90      1.00      0.95         9\n",
      "         1.0       1.00      0.91      0.95        11\n",
      "\n",
      "   micro avg       0.95      0.95      0.95        20\n",
      "   macro avg       0.95      0.95      0.95        20\n",
      "weighted avg       0.96      0.95      0.95        20\n",
      "\n"
     ]
    }
   ],
   "source": [
    "print('classificaton report')\n",
    "print(classification_report(Y_test,preds))"
   ]
  },
  {
   "cell_type": "code",
   "execution_count": 533,
   "metadata": {},
   "outputs": [],
   "source": [
    "df_important = pd.DataFrame(importance,index=X_train.columns,columns=['Importance'])"
   ]
  },
  {
   "cell_type": "code",
   "execution_count": 538,
   "metadata": {},
   "outputs": [
    {
     "data": {
      "text/html": [
       "<div>\n",
       "<style scoped>\n",
       "    .dataframe tbody tr th:only-of-type {\n",
       "        vertical-align: middle;\n",
       "    }\n",
       "\n",
       "    .dataframe tbody tr th {\n",
       "        vertical-align: top;\n",
       "    }\n",
       "\n",
       "    .dataframe thead th {\n",
       "        text-align: right;\n",
       "    }\n",
       "</style>\n",
       "<table border=\"1\" class=\"dataframe\">\n",
       "  <thead>\n",
       "    <tr style=\"text-align: right;\">\n",
       "      <th></th>\n",
       "      <th>Importance</th>\n",
       "    </tr>\n",
       "  </thead>\n",
       "  <tbody>\n",
       "    <tr>\n",
       "      <th>transactionAmount</th>\n",
       "      <td>0.198539</td>\n",
       "    </tr>\n",
       "    <tr>\n",
       "      <th>orderAmount</th>\n",
       "      <td>0.174870</td>\n",
       "    </tr>\n",
       "    <tr>\n",
       "      <th>paymentMethodIssuer_Her Majesty Trust</th>\n",
       "      <td>0.046586</td>\n",
       "    </tr>\n",
       "    <tr>\n",
       "      <th>paymentMethodIssuer_Rose Bancshares</th>\n",
       "      <td>0.037039</td>\n",
       "    </tr>\n",
       "    <tr>\n",
       "      <th>paymentMethodProvider_VISA 16 digit</th>\n",
       "      <td>0.034409</td>\n",
       "    </tr>\n",
       "  </tbody>\n",
       "</table>\n",
       "</div>"
      ],
      "text/plain": [
       "                                       Importance\n",
       "transactionAmount                        0.198539\n",
       "orderAmount                              0.174870\n",
       "paymentMethodIssuer_Her Majesty Trust    0.046586\n",
       "paymentMethodIssuer_Rose Bancshares      0.037039\n",
       "paymentMethodProvider_VISA 16 digit      0.034409"
      ]
     },
     "execution_count": 538,
     "metadata": {},
     "output_type": "execute_result"
    }
   ],
   "source": [
    "df_important.nlargest(5,'Importance')"
   ]
  },
  {
   "cell_type": "markdown",
   "metadata": {},
   "source": [
    "Logestic regression model has an accuracy of 75% for the training data and 65% on the test data \n",
    "\n",
    "Randomforest model has an accuracy of 99% for the training data and 95% on the unseen data.\n",
    "Basic Randomforest model without any fine tuning has give an accuracy of 95%.\n",
    "As the data sample was small if we perform any hyper parameter tuning it will try to overfit the data.\n"
   ]
  },
  {
   "cell_type": "markdown",
   "metadata": {},
   "source": [
    "TransactionAmount is the most important feature which is being used in the model followed by the orderAmount"
   ]
  },
  {
   "cell_type": "code",
   "execution_count": null,
   "metadata": {},
   "outputs": [],
   "source": []
  }
 ],
 "metadata": {
  "kernelspec": {
   "display_name": "Python 3",
   "language": "python",
   "name": "python3"
  },
  "language_info": {
   "codemirror_mode": {
    "name": "ipython",
    "version": 3
   },
   "file_extension": ".py",
   "mimetype": "text/x-python",
   "name": "python",
   "nbconvert_exporter": "python",
   "pygments_lexer": "ipython3",
   "version": "3.7.3"
  }
 },
 "nbformat": 4,
 "nbformat_minor": 2
}
